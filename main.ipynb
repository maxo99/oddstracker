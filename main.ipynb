{
 "cells": [
  {
   "cell_type": "code",
   "execution_count": 1,
   "id": "af24c50a",
   "metadata": {},
   "outputs": [
    {
     "name": "stderr",
     "output_type": "stream",
     "text": [
      "SQL tables already exist: ['betoffer', 'event']\n"
     ]
    }
   ],
   "source": [
    "import os\n",
    "import json \n",
    "\n",
    "from oddstracker.config import DATA_DIR\n",
    "from oddstracker.domain.kambi_event import KambiData, KambiEvent\n",
    "from oddstracker.domain.kambi_provider import PROVIDER, KambiProvider\n",
    "from oddstracker.service.oddscollector import collect_kdata, store_kdata"
   ]
  },
  {
   "cell_type": "code",
   "execution_count": 3,
   "id": "8c350d63",
   "metadata": {},
   "outputs": [],
   "source": [
    "kdata = collect_kdata()"
   ]
  },
  {
   "cell_type": "code",
   "execution_count": 8,
   "id": "6ccbab27",
   "metadata": {},
   "outputs": [],
   "source": [
    "with open(os.path.join(DATA_DIR, \"kdata.json\"), \"w\", encoding=\"utf-8\") as f:\n",
    "    _test_data = kdata[0]\n",
    "    f.write(_test_data.model_dump_json())"
   ]
  },
  {
   "cell_type": "code",
   "execution_count": null,
   "id": "2ad3509d",
   "metadata": {},
   "outputs": [],
   "source": [
    "with open(os.path.join(DATA_DIR, \"betOffers.json\"), \"w\") as f:\n",
    "    json.dump(kdata[0].betOffers[0].model_dump(), f, indent=2, default=str)\n"
   ]
  }
 ],
 "metadata": {
  "kernelspec": {
   "display_name": "oddstracker",
   "language": "python",
   "name": "python3"
  },
  "language_info": {
   "codemirror_mode": {
    "name": "ipython",
    "version": 3
   },
   "file_extension": ".py",
   "mimetype": "text/x-python",
   "name": "python",
   "nbconvert_exporter": "python",
   "pygments_lexer": "ipython3",
   "version": "3.13.5"
  }
 },
 "nbformat": 4,
 "nbformat_minor": 5
}
