{
 "cells": [
  {
   "cell_type": "code",
   "execution_count": null,
   "id": "af24c50a",
   "metadata": {},
   "outputs": [],
   "source": [
    "import json\n",
    "import os\n",
    "\n",
    "import requests\n",
    "\n",
    "from oddstracker.config import DATA_DIR\n",
    "from oddstracker.domain.providers import PROVIDER\n"
   ]
  },
  {
   "cell_type": "code",
   "execution_count": null,
   "id": "8c350d63",
   "metadata": {},
   "outputs": [],
   "source": [
    "resp = requests.get(PROVIDER.nfl_url, params=PROVIDER.qparams())\n"
   ]
  },
  {
   "cell_type": "code",
   "execution_count": null,
   "id": "a8c46c80",
   "metadata": {},
   "outputs": [],
   "source": [
    "import nflreadpy as nfl\n",
    "\n",
    "# nfl.import_weekly_pfr('pass',[2025])\n",
    "nfl.load_teams()"
   ]
  },
  {
   "cell_type": "code",
   "execution_count": null,
   "id": "1114d2d8",
   "metadata": {},
   "outputs": [],
   "source": [
    "import os\n",
    "\n",
    "import requests\n",
    "\n",
    "## https://github.com/the-odds-api/samples-python/blob/master/odds.py\n",
    "## https://the-odds-api.com/liveapi/guides/v4/\n",
    "\n",
    "\n",
    "# https://the-odds-api.com/sports-odds-data/sports-apis.html\n",
    "SPORT = \"americanfootball_nfl\"\n",
    "\n",
    "# decimal | american\n",
    "ODDS_FORMAT = \"decimal\"\n",
    "\n",
    "# Bookmaker regions\n",
    "# uk | us | us2 | eu | au. Multiple can be specified if comma delimited.\n",
    "# More info at https://the-odds-api.com/sports-odds-data/bookmaker-apis.html\n",
    "REGIONS = \"us2\"\n",
    "BOOKMAKER_KEY = \"hardrockbet\"\n",
    "\n",
    "MARKETS = \"h2h,spreads,totals\"\n",
    "\n",
    "\n",
    "API_KEY = os.environ.get(\"THEODDSAPI_KEY\")\n",
    "odds_response = requests.get(\n",
    "    f\"https://api.the-odds-api.com/v4/sports/{SPORT}/odds\",\n",
    "    params={\n",
    "        \"api_key\": API_KEY,\n",
    "        \"regions\": REGIONS,\n",
    "        \"markets\": MARKETS,\n",
    "        \"oddsFormat\": ODDS_FORMAT,\n",
    "        \"dateFormat\": \"iso\",\n",
    "    },\n",
    ")\n",
    "\n",
    "if odds_response.status_code != 200:\n",
    "    print(\n",
    "        f\"Failed to get odds: status_code {odds_response.status_code}, response body {odds_response.text}\"\n",
    "    )\n",
    "\n",
    "else:\n",
    "    odds_json = odds_response.json()\n",
    "    print(\"Number of events:\", len(odds_json))\n",
    "    print(odds_json)\n",
    "\n",
    "    # Check the usage quota\n",
    "    print(\"Usage for request\", odds_response.headers[\"x-requests-last\"])\n",
    "    print(\"Remaining requests\", odds_response.headers[\"x-requests-remaining\"])\n",
    "    print(\"Used requests\", odds_response.headers[\"x-requests-used\"])"
   ]
  }
 ],
 "metadata": {
  "kernelspec": {
   "display_name": "odds-tracker",
   "language": "python",
   "name": "python3"
  },
  "language_info": {
   "codemirror_mode": {
    "name": "ipython",
    "version": 3
   },
   "file_extension": ".py",
   "mimetype": "text/x-python",
   "name": "python",
   "nbconvert_exporter": "python",
   "pygments_lexer": "ipython3",
   "version": "3.13.5"
  }
 },
 "nbformat": 4,
 "nbformat_minor": 5
}
