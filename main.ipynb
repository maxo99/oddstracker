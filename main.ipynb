{
 "cells": [
  {
   "cell_type": "code",
   "execution_count": 1,
   "id": "af24c50a",
   "metadata": {},
   "outputs": [
    {
     "name": "stderr",
     "output_type": "stream",
     "text": [
      "SQL tables already exist: ['betoffer', 'event']\n"
     ]
    }
   ],
   "source": [
    "import json\n",
    "import os\n",
    "\n",
    "from oddstracker.config import DATA_DIR\n",
    "from oddstracker.service.oddscollector import pull_kdata"
   ]
  },
  {
   "cell_type": "code",
   "execution_count": null,
   "id": "8c350d63",
   "metadata": {},
   "outputs": [],
   "source": [
    "kdata = pull_kdata()"
   ]
  },
  {
   "cell_type": "code",
   "execution_count": null,
   "id": "6ccbab27",
   "metadata": {},
   "outputs": [],
   "source": [
    "with open(os.path.join(DATA_DIR, \"kdata.json\"), \"w\", encoding=\"utf-8\") as f:\n",
    "    _test_data = kdata[1]\n",
    "    out = \"\"\n",
    "    for bo in _test_data.betOffers:\n",
    "        out += bo.model_dump_json() + \"\\n\"\n",
    "    f.write(out)"
   ]
  },
  {
   "cell_type": "code",
   "execution_count": null,
   "id": "2ad3509d",
   "metadata": {},
   "outputs": [],
   "source": [
    "with open(os.path.join(DATA_DIR, \"betOffers.json\"), \"w\") as f:\n",
    "    json.dump(kdata[0].betOffers[0].model_dump(), f, indent=2, default=str)\n"
   ]
  },
  {
   "cell_type": "code",
   "execution_count": null,
   "id": "764b7853",
   "metadata": {},
   "outputs": [
    {
     "data": {
      "text/html": [
       "<div><style>\n",
       ".dataframe > thead > tr,\n",
       ".dataframe > tbody > tr {\n",
       "  text-align: right;\n",
       "  white-space: pre-wrap;\n",
       "}\n",
       "</style>\n",
       "<small>shape: (768, 18)</small><table border=\"1\" class=\"dataframe\"><thead><tr><th>season</th><th>team</th><th>nfl</th><th>nfl_team_id</th><th>espn</th><th>pfr</th><th>pff</th><th>pfflabel</th><th>fo</th><th>full</th><th>location</th><th>short_location</th><th>nickname</th><th>hyphenated</th><th>sbr</th><th>sbr_wins</th><th>sbr_name</th><th>draft_kings</th></tr><tr><td>i64</td><td>str</td><td>str</td><td>i64</td><td>str</td><td>str</td><td>str</td><td>str</td><td>str</td><td>str</td><td>str</td><td>str</td><td>str</td><td>str</td><td>i64</td><td>str</td><td>str</td><td>str</td></tr></thead><tbody><tr><td>2002</td><td>&quot;ARI&quot;</td><td>&quot;ARI&quot;</td><td>3800</td><td>&quot;ARI&quot;</td><td>&quot;CRD&quot;</td><td>null</td><td>null</td><td>&quot;ARI&quot;</td><td>&quot;Arizona Cardinals&quot;</td><td>&quot;Arizona&quot;</td><td>&quot;Arizona&quot;</td><td>&quot;Cardinals&quot;</td><td>&quot;arizona-cardinals&quot;</td><td>1549</td><td>null</td><td>null</td><td>null</td></tr><tr><td>2002</td><td>&quot;ATL&quot;</td><td>&quot;ATL&quot;</td><td>200</td><td>&quot;ATL&quot;</td><td>&quot;ATL&quot;</td><td>null</td><td>null</td><td>&quot;ATL&quot;</td><td>&quot;Atlanta Falcons&quot;</td><td>&quot;Atlanta&quot;</td><td>&quot;Atlanta&quot;</td><td>&quot;Falcons&quot;</td><td>&quot;atlanta-falcons&quot;</td><td>1546</td><td>null</td><td>null</td><td>null</td></tr><tr><td>2002</td><td>&quot;BAL&quot;</td><td>&quot;BAL&quot;</td><td>325</td><td>&quot;BAL&quot;</td><td>&quot;RAV&quot;</td><td>null</td><td>null</td><td>&quot;BAL&quot;</td><td>&quot;Baltimore Ravens&quot;</td><td>&quot;Baltimore&quot;</td><td>&quot;Baltimore&quot;</td><td>&quot;Ravens&quot;</td><td>&quot;baltimore-ravens&quot;</td><td>1521</td><td>null</td><td>null</td><td>null</td></tr><tr><td>2002</td><td>&quot;BUF&quot;</td><td>&quot;BUF&quot;</td><td>610</td><td>&quot;BUF&quot;</td><td>&quot;BUF&quot;</td><td>null</td><td>null</td><td>&quot;BUF&quot;</td><td>&quot;Buffalo Bills&quot;</td><td>&quot;Buffalo&quot;</td><td>&quot;Buffalo&quot;</td><td>&quot;Bills&quot;</td><td>&quot;buffalo-bills&quot;</td><td>1526</td><td>null</td><td>null</td><td>null</td></tr><tr><td>2002</td><td>&quot;CAR&quot;</td><td>&quot;CAR&quot;</td><td>750</td><td>&quot;CAR&quot;</td><td>&quot;CAR&quot;</td><td>null</td><td>null</td><td>&quot;CAR&quot;</td><td>&quot;Carolina Panthers&quot;</td><td>&quot;Carolina&quot;</td><td>&quot;Carolina&quot;</td><td>&quot;Panthers&quot;</td><td>&quot;carolina-panthers&quot;</td><td>1545</td><td>null</td><td>null</td><td>null</td></tr><tr><td>&hellip;</td><td>&hellip;</td><td>&hellip;</td><td>&hellip;</td><td>&hellip;</td><td>&hellip;</td><td>&hellip;</td><td>&hellip;</td><td>&hellip;</td><td>&hellip;</td><td>&hellip;</td><td>&hellip;</td><td>&hellip;</td><td>&hellip;</td><td>&hellip;</td><td>&hellip;</td><td>&hellip;</td><td>&hellip;</td></tr><tr><td>2025</td><td>&quot;SEA&quot;</td><td>&quot;SEA&quot;</td><td>4600</td><td>&quot;SEA&quot;</td><td>&quot;SEA&quot;</td><td>&quot;29&quot;</td><td>&quot;SEA&quot;</td><td>&quot;SEA&quot;</td><td>&quot;Seattle Seahawks&quot;</td><td>&quot;Seattle&quot;</td><td>&quot;Seattle&quot;</td><td>&quot;Seahawks&quot;</td><td>&quot;seattle-seahawks&quot;</td><td>1548</td><td>null</td><td>&quot;Seattle Seahawks&quot;</td><td>&quot;SEA Seahawks&quot;</td></tr><tr><td>2025</td><td>&quot;SF&quot;</td><td>&quot;SF&quot;</td><td>4500</td><td>&quot;SF&quot;</td><td>&quot;SFO&quot;</td><td>&quot;28&quot;</td><td>&quot;SF&quot;</td><td>&quot;SF&quot;</td><td>&quot;San Francisco 49ers&quot;</td><td>&quot;San Francisco&quot;</td><td>&quot;San Francisco&quot;</td><td>&quot;49ers&quot;</td><td>&quot;san-francisco-49ers&quot;</td><td>1547</td><td>null</td><td>&quot;San Francisco 49ers&quot;</td><td>&quot;SF 49ers&quot;</td></tr><tr><td>2025</td><td>&quot;TB&quot;</td><td>&quot;TB&quot;</td><td>4900</td><td>&quot;TB&quot;</td><td>&quot;TAM&quot;</td><td>&quot;30&quot;</td><td>&quot;TB&quot;</td><td>&quot;TB&quot;</td><td>&quot;Tampa Bay Buccaneers&quot;</td><td>&quot;Tampa Bay&quot;</td><td>&quot;Tampa Bay&quot;</td><td>&quot;Buccaneers&quot;</td><td>&quot;tampa-bay-buccaneers&quot;</td><td>1544</td><td>null</td><td>&quot;Tampa Bay Buccaneers&quot;</td><td>&quot;TB Buccaneers&quot;</td></tr><tr><td>2025</td><td>&quot;TEN&quot;</td><td>&quot;TEN&quot;</td><td>2100</td><td>&quot;TEN&quot;</td><td>&quot;OTI&quot;</td><td>&quot;31&quot;</td><td>&quot;TEN&quot;</td><td>&quot;TEN&quot;</td><td>&quot;Tennessee Titans&quot;</td><td>&quot;Tennessee&quot;</td><td>&quot;Tennessee&quot;</td><td>&quot;Titans&quot;</td><td>&quot;tennessee-titans&quot;</td><td>1528</td><td>null</td><td>&quot;Tennessee Titans&quot;</td><td>&quot;TEN Titans&quot;</td></tr><tr><td>2025</td><td>&quot;WAS&quot;</td><td>&quot;WAS&quot;</td><td>5110</td><td>&quot;WSH&quot;</td><td>&quot;WAS&quot;</td><td>&quot;32&quot;</td><td>&quot;WAS&quot;</td><td>&quot;WAS&quot;</td><td>&quot;Washington Commanders&quot;</td><td>&quot;Washington&quot;</td><td>&quot;Washington&quot;</td><td>&quot;Commanders&quot;</td><td>&quot;washington-commanders&quot;</td><td>1537</td><td>null</td><td>&quot;Washington Commanders&quot;</td><td>&quot;WAS Commanders&quot;</td></tr></tbody></table></div>"
      ],
      "text/plain": [
       "shape: (768, 18)\n",
       "┌────────┬──────┬─────┬─────────────┬───┬──────┬──────────┬───────────────────────┬────────────────┐\n",
       "│ season ┆ team ┆ nfl ┆ nfl_team_id ┆ … ┆ sbr  ┆ sbr_wins ┆ sbr_name              ┆ draft_kings    │\n",
       "│ ---    ┆ ---  ┆ --- ┆ ---         ┆   ┆ ---  ┆ ---      ┆ ---                   ┆ ---            │\n",
       "│ i64    ┆ str  ┆ str ┆ i64         ┆   ┆ i64  ┆ str      ┆ str                   ┆ str            │\n",
       "╞════════╪══════╪═════╪═════════════╪═══╪══════╪══════════╪═══════════════════════╪════════════════╡\n",
       "│ 2002   ┆ ARI  ┆ ARI ┆ 3800        ┆ … ┆ 1549 ┆ null     ┆ null                  ┆ null           │\n",
       "│ 2002   ┆ ATL  ┆ ATL ┆ 200         ┆ … ┆ 1546 ┆ null     ┆ null                  ┆ null           │\n",
       "│ 2002   ┆ BAL  ┆ BAL ┆ 325         ┆ … ┆ 1521 ┆ null     ┆ null                  ┆ null           │\n",
       "│ 2002   ┆ BUF  ┆ BUF ┆ 610         ┆ … ┆ 1526 ┆ null     ┆ null                  ┆ null           │\n",
       "│ 2002   ┆ CAR  ┆ CAR ┆ 750         ┆ … ┆ 1545 ┆ null     ┆ null                  ┆ null           │\n",
       "│ …      ┆ …    ┆ …   ┆ …           ┆ … ┆ …    ┆ …        ┆ …                     ┆ …              │\n",
       "│ 2025   ┆ SEA  ┆ SEA ┆ 4600        ┆ … ┆ 1548 ┆ null     ┆ Seattle Seahawks      ┆ SEA Seahawks   │\n",
       "│ 2025   ┆ SF   ┆ SF  ┆ 4500        ┆ … ┆ 1547 ┆ null     ┆ San Francisco 49ers   ┆ SF 49ers       │\n",
       "│ 2025   ┆ TB   ┆ TB  ┆ 4900        ┆ … ┆ 1544 ┆ null     ┆ Tampa Bay Buccaneers  ┆ TB Buccaneers  │\n",
       "│ 2025   ┆ TEN  ┆ TEN ┆ 2100        ┆ … ┆ 1528 ┆ null     ┆ Tennessee Titans      ┆ TEN Titans     │\n",
       "│ 2025   ┆ WAS  ┆ WAS ┆ 5110        ┆ … ┆ 1537 ┆ null     ┆ Washington Commanders ┆ WAS Commanders │\n",
       "└────────┴──────┴─────┴─────────────┴───┴──────┴──────────┴───────────────────────┴────────────────┘"
      ]
     },
     "execution_count": 3,
     "metadata": {},
     "output_type": "execute_result"
    }
   ],
   "source": [
    "import nflreadpy as nfl\n",
    "\n",
    "nfl.load_teams()"
   ]
  },
  {
   "cell_type": "code",
   "execution_count": null,
   "id": "a8c46c80",
   "metadata": {},
   "outputs": [
    {
     "data": {
      "text/html": [
       "<div><style>\n",
       ".dataframe > thead > tr,\n",
       ".dataframe > tbody > tr {\n",
       "  text-align: right;\n",
       "  white-space: pre-wrap;\n",
       "}\n",
       "</style>\n",
       "<small>shape: (768, 18)</small><table border=\"1\" class=\"dataframe\"><thead><tr><th>season</th><th>team</th><th>nfl</th><th>nfl_team_id</th><th>espn</th><th>pfr</th><th>pff</th><th>pfflabel</th><th>fo</th><th>full</th><th>location</th><th>short_location</th><th>nickname</th><th>hyphenated</th><th>sbr</th><th>sbr_wins</th><th>sbr_name</th><th>draft_kings</th></tr><tr><td>i64</td><td>str</td><td>str</td><td>i64</td><td>str</td><td>str</td><td>str</td><td>str</td><td>str</td><td>str</td><td>str</td><td>str</td><td>str</td><td>str</td><td>i64</td><td>str</td><td>str</td><td>str</td></tr></thead><tbody><tr><td>2002</td><td>&quot;ARI&quot;</td><td>&quot;ARI&quot;</td><td>3800</td><td>&quot;ARI&quot;</td><td>&quot;CRD&quot;</td><td>null</td><td>null</td><td>&quot;ARI&quot;</td><td>&quot;Arizona Cardinals&quot;</td><td>&quot;Arizona&quot;</td><td>&quot;Arizona&quot;</td><td>&quot;Cardinals&quot;</td><td>&quot;arizona-cardinals&quot;</td><td>1549</td><td>null</td><td>null</td><td>null</td></tr><tr><td>2002</td><td>&quot;ATL&quot;</td><td>&quot;ATL&quot;</td><td>200</td><td>&quot;ATL&quot;</td><td>&quot;ATL&quot;</td><td>null</td><td>null</td><td>&quot;ATL&quot;</td><td>&quot;Atlanta Falcons&quot;</td><td>&quot;Atlanta&quot;</td><td>&quot;Atlanta&quot;</td><td>&quot;Falcons&quot;</td><td>&quot;atlanta-falcons&quot;</td><td>1546</td><td>null</td><td>null</td><td>null</td></tr><tr><td>2002</td><td>&quot;BAL&quot;</td><td>&quot;BAL&quot;</td><td>325</td><td>&quot;BAL&quot;</td><td>&quot;RAV&quot;</td><td>null</td><td>null</td><td>&quot;BAL&quot;</td><td>&quot;Baltimore Ravens&quot;</td><td>&quot;Baltimore&quot;</td><td>&quot;Baltimore&quot;</td><td>&quot;Ravens&quot;</td><td>&quot;baltimore-ravens&quot;</td><td>1521</td><td>null</td><td>null</td><td>null</td></tr><tr><td>2002</td><td>&quot;BUF&quot;</td><td>&quot;BUF&quot;</td><td>610</td><td>&quot;BUF&quot;</td><td>&quot;BUF&quot;</td><td>null</td><td>null</td><td>&quot;BUF&quot;</td><td>&quot;Buffalo Bills&quot;</td><td>&quot;Buffalo&quot;</td><td>&quot;Buffalo&quot;</td><td>&quot;Bills&quot;</td><td>&quot;buffalo-bills&quot;</td><td>1526</td><td>null</td><td>null</td><td>null</td></tr><tr><td>2002</td><td>&quot;CAR&quot;</td><td>&quot;CAR&quot;</td><td>750</td><td>&quot;CAR&quot;</td><td>&quot;CAR&quot;</td><td>null</td><td>null</td><td>&quot;CAR&quot;</td><td>&quot;Carolina Panthers&quot;</td><td>&quot;Carolina&quot;</td><td>&quot;Carolina&quot;</td><td>&quot;Panthers&quot;</td><td>&quot;carolina-panthers&quot;</td><td>1545</td><td>null</td><td>null</td><td>null</td></tr><tr><td>&hellip;</td><td>&hellip;</td><td>&hellip;</td><td>&hellip;</td><td>&hellip;</td><td>&hellip;</td><td>&hellip;</td><td>&hellip;</td><td>&hellip;</td><td>&hellip;</td><td>&hellip;</td><td>&hellip;</td><td>&hellip;</td><td>&hellip;</td><td>&hellip;</td><td>&hellip;</td><td>&hellip;</td><td>&hellip;</td></tr><tr><td>2025</td><td>&quot;SEA&quot;</td><td>&quot;SEA&quot;</td><td>4600</td><td>&quot;SEA&quot;</td><td>&quot;SEA&quot;</td><td>&quot;29&quot;</td><td>&quot;SEA&quot;</td><td>&quot;SEA&quot;</td><td>&quot;Seattle Seahawks&quot;</td><td>&quot;Seattle&quot;</td><td>&quot;Seattle&quot;</td><td>&quot;Seahawks&quot;</td><td>&quot;seattle-seahawks&quot;</td><td>1548</td><td>null</td><td>&quot;Seattle Seahawks&quot;</td><td>&quot;SEA Seahawks&quot;</td></tr><tr><td>2025</td><td>&quot;SF&quot;</td><td>&quot;SF&quot;</td><td>4500</td><td>&quot;SF&quot;</td><td>&quot;SFO&quot;</td><td>&quot;28&quot;</td><td>&quot;SF&quot;</td><td>&quot;SF&quot;</td><td>&quot;San Francisco 49ers&quot;</td><td>&quot;San Francisco&quot;</td><td>&quot;San Francisco&quot;</td><td>&quot;49ers&quot;</td><td>&quot;san-francisco-49ers&quot;</td><td>1547</td><td>null</td><td>&quot;San Francisco 49ers&quot;</td><td>&quot;SF 49ers&quot;</td></tr><tr><td>2025</td><td>&quot;TB&quot;</td><td>&quot;TB&quot;</td><td>4900</td><td>&quot;TB&quot;</td><td>&quot;TAM&quot;</td><td>&quot;30&quot;</td><td>&quot;TB&quot;</td><td>&quot;TB&quot;</td><td>&quot;Tampa Bay Buccaneers&quot;</td><td>&quot;Tampa Bay&quot;</td><td>&quot;Tampa Bay&quot;</td><td>&quot;Buccaneers&quot;</td><td>&quot;tampa-bay-buccaneers&quot;</td><td>1544</td><td>null</td><td>&quot;Tampa Bay Buccaneers&quot;</td><td>&quot;TB Buccaneers&quot;</td></tr><tr><td>2025</td><td>&quot;TEN&quot;</td><td>&quot;TEN&quot;</td><td>2100</td><td>&quot;TEN&quot;</td><td>&quot;OTI&quot;</td><td>&quot;31&quot;</td><td>&quot;TEN&quot;</td><td>&quot;TEN&quot;</td><td>&quot;Tennessee Titans&quot;</td><td>&quot;Tennessee&quot;</td><td>&quot;Tennessee&quot;</td><td>&quot;Titans&quot;</td><td>&quot;tennessee-titans&quot;</td><td>1528</td><td>null</td><td>&quot;Tennessee Titans&quot;</td><td>&quot;TEN Titans&quot;</td></tr><tr><td>2025</td><td>&quot;WAS&quot;</td><td>&quot;WAS&quot;</td><td>5110</td><td>&quot;WSH&quot;</td><td>&quot;WAS&quot;</td><td>&quot;32&quot;</td><td>&quot;WAS&quot;</td><td>&quot;WAS&quot;</td><td>&quot;Washington Commanders&quot;</td><td>&quot;Washington&quot;</td><td>&quot;Washington&quot;</td><td>&quot;Commanders&quot;</td><td>&quot;washington-commanders&quot;</td><td>1537</td><td>null</td><td>&quot;Washington Commanders&quot;</td><td>&quot;WAS Commanders&quot;</td></tr></tbody></table></div>"
      ],
      "text/plain": [
       "shape: (768, 18)\n",
       "┌────────┬──────┬─────┬─────────────┬───┬──────┬──────────┬───────────────────────┬────────────────┐\n",
       "│ season ┆ team ┆ nfl ┆ nfl_team_id ┆ … ┆ sbr  ┆ sbr_wins ┆ sbr_name              ┆ draft_kings    │\n",
       "│ ---    ┆ ---  ┆ --- ┆ ---         ┆   ┆ ---  ┆ ---      ┆ ---                   ┆ ---            │\n",
       "│ i64    ┆ str  ┆ str ┆ i64         ┆   ┆ i64  ┆ str      ┆ str                   ┆ str            │\n",
       "╞════════╪══════╪═════╪═════════════╪═══╪══════╪══════════╪═══════════════════════╪════════════════╡\n",
       "│ 2002   ┆ ARI  ┆ ARI ┆ 3800        ┆ … ┆ 1549 ┆ null     ┆ null                  ┆ null           │\n",
       "│ 2002   ┆ ATL  ┆ ATL ┆ 200         ┆ … ┆ 1546 ┆ null     ┆ null                  ┆ null           │\n",
       "│ 2002   ┆ BAL  ┆ BAL ┆ 325         ┆ … ┆ 1521 ┆ null     ┆ null                  ┆ null           │\n",
       "│ 2002   ┆ BUF  ┆ BUF ┆ 610         ┆ … ┆ 1526 ┆ null     ┆ null                  ┆ null           │\n",
       "│ 2002   ┆ CAR  ┆ CAR ┆ 750         ┆ … ┆ 1545 ┆ null     ┆ null                  ┆ null           │\n",
       "│ …      ┆ …    ┆ …   ┆ …           ┆ … ┆ …    ┆ …        ┆ …                     ┆ …              │\n",
       "│ 2025   ┆ SEA  ┆ SEA ┆ 4600        ┆ … ┆ 1548 ┆ null     ┆ Seattle Seahawks      ┆ SEA Seahawks   │\n",
       "│ 2025   ┆ SF   ┆ SF  ┆ 4500        ┆ … ┆ 1547 ┆ null     ┆ San Francisco 49ers   ┆ SF 49ers       │\n",
       "│ 2025   ┆ TB   ┆ TB  ┆ 4900        ┆ … ┆ 1544 ┆ null     ┆ Tampa Bay Buccaneers  ┆ TB Buccaneers  │\n",
       "│ 2025   ┆ TEN  ┆ TEN ┆ 2100        ┆ … ┆ 1528 ┆ null     ┆ Tennessee Titans      ┆ TEN Titans     │\n",
       "│ 2025   ┆ WAS  ┆ WAS ┆ 5110        ┆ … ┆ 1537 ┆ null     ┆ Washington Commanders ┆ WAS Commanders │\n",
       "└────────┴──────┴─────┴─────────────┴───┴──────┴──────────┴───────────────────────┴────────────────┘"
      ]
     },
     "execution_count": 1,
     "metadata": {},
     "output_type": "execute_result"
    }
   ],
   "source": [
    "import nflreadpy as nfl\n",
    "\n",
    "# nfl.import_weekly_pfr('pass',[2025])\n",
    "nfl.load_teams()"
   ]
  },
  {
   "cell_type": "code",
   "execution_count": null,
   "id": "1114d2d8",
   "metadata": {},
   "outputs": [],
   "source": []
  }
 ],
 "metadata": {
  "kernelspec": {
   "display_name": "oddstracker",
   "language": "python",
   "name": "python3"
  },
  "language_info": {
   "codemirror_mode": {
    "name": "ipython",
    "version": 3
   },
   "file_extension": ".py",
   "mimetype": "text/x-python",
   "name": "python",
   "nbconvert_exporter": "python",
   "pygments_lexer": "ipython3",
   "version": "3.13.5"
  }
 },
 "nbformat": 4,
 "nbformat_minor": 5
}
